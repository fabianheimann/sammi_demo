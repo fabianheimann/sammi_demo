{
 "cells": [
  {
   "cell_type": "code",
   "execution_count": 1,
   "metadata": {},
   "outputs": [],
   "source": [
    "from math import factorial, exp\n",
    "\n",
    "def aexp(x, n):\n",
    "    y = 0\n",
    "    for j in range(n+1):\n",
    "        y = y + x**j/factorial(j)\n",
    "    return y"
   ]
  },
  {
   "cell_type": "code",
   "execution_count": 2,
   "metadata": {},
   "outputs": [
    {
     "data": {
      "text/plain": [
       "0.6065306597126333"
      ]
     },
     "execution_count": 2,
     "metadata": {},
     "output_type": "execute_result"
    }
   ],
   "source": [
    "aexp(-0.5,100)"
   ]
  },
  {
   "cell_type": "code",
   "execution_count": 3,
   "metadata": {},
   "outputs": [
    {
     "data": {
      "text/plain": [
       "0.6065306597126334"
      ]
     },
     "execution_count": 3,
     "metadata": {},
     "output_type": "execute_result"
    }
   ],
   "source": [
    "exp(-0.5)"
   ]
  },
  {
   "cell_type": "markdown",
   "metadata": {},
   "source": [
    "Zuerst berechnen wir den absoluten Verfahrensfehler"
   ]
  },
  {
   "cell_type": "code",
   "execution_count": 4,
   "metadata": {},
   "outputs": [
    {
     "name": "stdout",
     "output_type": "stream",
     "text": [
      "n:  3  E_abs^v =  0.0023639930459667946 Schranke:  0.0026041666666666665\n",
      "n:  5  E_abs^v =  2.024304596681681e-05 Schranke:  2.170138888888889e-05\n",
      "n:  7  E_abs^v =  9.175628423729876e-08 Schranke:  9.68812003968254e-08\n",
      "n:  9  E_abs^v =  2.573727897470235e-10 Schranke:  2.691144455467372e-10\n",
      "n:  11  E_abs^v =  4.908295991867817e-13 Schranke:  5.096864498991235e-13\n",
      "n:  13  E_abs^v =  7.771561172376096e-16 Schranke:  7.001187498614334e-16\n",
      "n:  15  E_abs^v =  1.1102230246251565e-16 Schranke:  7.292903644389931e-19\n",
      "n:  17  E_abs^v =  1.1102230246251565e-16 Schranke:  5.958254611429682e-22\n",
      "n:  19  E_abs^v =  1.1102230246251565e-16 Schranke:  3.919904349624791e-25\n"
     ]
    }
   ],
   "source": [
    "x = -0.5\n",
    "\n",
    "for n in range(3, 20, 2):\n",
    "    print(\"n: \", n, \" E_abs^v = \", abs( aexp(x, n) - exp(x)), \"Schranke: \", abs(x)**(n+1)/factorial(n+1))"
   ]
  },
  {
   "cell_type": "markdown",
   "metadata": {},
   "source": [
    "Jetzt wird x ersetzt durch ein ungenaues xtilde"
   ]
  },
  {
   "cell_type": "code",
   "execution_count": 5,
   "metadata": {},
   "outputs": [
    {
     "name": "stdout",
     "output_type": "stream",
     "text": [
      "x:  -0.5 xtilde -0.475\n"
     ]
    }
   ],
   "source": [
    "eps = 0.05 # Störung: 5%\n",
    "\n",
    "xtilde = (1-eps)*x\n",
    "print(\"x: \", x, \"xtilde\", xtilde)"
   ]
  },
  {
   "cell_type": "markdown",
   "metadata": {},
   "source": [
    "Relativ zu dieser Störung berechnen wir nun den durch fehlerhafte Eingangsdaten übertragenen absoluten Fehler"
   ]
  },
  {
   "cell_type": "code",
   "execution_count": 6,
   "metadata": {},
   "outputs": [
    {
     "name": "stdout",
     "output_type": "stream",
     "text": [
      "E_abs^e 0.015354396752386701\n"
     ]
    }
   ],
   "source": [
    "print(\"E_abs^e\", abs( exp(x) - exp(xtilde)))"
   ]
  },
  {
   "cell_type": "code",
   "execution_count": 7,
   "metadata": {},
   "outputs": [
    {
     "name": "stdout",
     "output_type": "stream",
     "text": [
      "n:  1\n",
      "E_abs^g =  0.0815306597126334\n",
      "n:  2\n",
      "E_abs^g =  0.03128184028736658\n",
      "n:  3\n",
      "E_abs^g =  0.013419861120699927\n",
      "n:  4\n",
      "E_abs^g =  0.015540971146741578\n",
      "n:  5\n",
      "E_abs^g =  0.015339465694267584\n",
      "n:  6\n",
      "E_abs^g =  0.015355418209255123\n",
      "n:  7\n",
      "E_abs^g =  0.015354335717166712\n",
      "n:  8\n",
      "E_abs^g =  0.015354399990134437\n",
      "n:  9\n",
      "E_abs^g =  0.015354396597950015\n"
     ]
    }
   ],
   "source": [
    "#Als nächstes wird der absolute Gesamtfehler bestimmt\n",
    "\n",
    "for n in range(1, 10, 1):\n",
    "    print(\"n: \", n)\n",
    "    print(\"E_abs^g = \", abs(aexp(xtilde, n) - exp(x)))\n",
    "    #print(\"E_abs^v + E_abs^e = \", abs( aexp(x, n) - exp(x)) +abs( exp(x) - exp(xtilde)))\n",
    "    #print(\"E_abs^v + E_abs^e - E_abs^g = \",abs( aexp(x, n) - exp(x)) +abs( exp(x) - exp(xtilde)) - abs(aexp(xtilde, n) - exp(x)),\"\\n\\n\")"
   ]
  },
  {
   "cell_type": "code",
   "execution_count": null,
   "metadata": {},
   "outputs": [],
   "source": []
  }
 ],
 "metadata": {
  "kernelspec": {
   "display_name": "Python 3",
   "language": "python",
   "name": "python3"
  },
  "language_info": {
   "codemirror_mode": {
    "name": "ipython",
    "version": 3
   },
   "file_extension": ".py",
   "mimetype": "text/x-python",
   "name": "python",
   "nbconvert_exporter": "python",
   "pygments_lexer": "ipython3",
   "version": "3.8.6"
  }
 },
 "nbformat": 4,
 "nbformat_minor": 4
}
