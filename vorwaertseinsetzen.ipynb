{
 "cells": [
  {
   "cell_type": "code",
   "execution_count": null,
   "metadata": {},
   "outputs": [],
   "source": [
    "import numpy as np"
   ]
  },
  {
   "cell_type": "code",
   "execution_count": null,
   "metadata": {},
   "outputs": [],
   "source": [
    "def vorwaertseinsetzen(A, b):\n",
    "    x = np.zeros(len(b))\n",
    "    for j in range(len(b)):\n",
    "        inner_sum = 0\n",
    "        for k in range(j):\n",
    "            inner_sum += A[j, k]*x[k]\n",
    "        x[j] = 1./A[j,j]*(b[j] - inner_sum)\n",
    "    return x"
   ]
  },
  {
   "cell_type": "code",
   "execution_count": null,
   "metadata": {},
   "outputs": [],
   "source": [
    "A = np.array([[2,0,0],[3,4,0], [2,4,2]])\n",
    "b = np.array([[12], [14], [6]])"
   ]
  },
  {
   "cell_type": "code",
   "execution_count": null,
   "metadata": {},
   "outputs": [],
   "source": [
    "b"
   ]
  },
  {
   "cell_type": "code",
   "execution_count": null,
   "metadata": {},
   "outputs": [],
   "source": [
    "vorwaertseinsetzen(A,b)"
   ]
  },
  {
   "cell_type": "code",
   "execution_count": null,
   "metadata": {},
   "outputs": [],
   "source": [
    "def zufaellige_untere_drem(n):\n",
    "    A = np.random.rand(n,n)+1\n",
    "    for i in range(n):\n",
    "        for j in range(i+1,n):\n",
    "            A[i,j] = 0\n",
    "    return A\n",
    "\n",
    "A = zufaellige_untere_drem(4)\n",
    "A"
   ]
  },
  {
   "cell_type": "code",
   "execution_count": null,
   "metadata": {},
   "outputs": [],
   "source": [
    "b = np.random.rand(4,1)*10+2\n",
    "b\n",
    "vorwaertseinsetzen(A,b)"
   ]
  },
  {
   "cell_type": "code",
   "execution_count": null,
   "metadata": {},
   "outputs": [],
   "source": [
    "import timeit\n",
    "N_tests = 500"
   ]
  },
  {
   "cell_type": "code",
   "execution_count": null,
   "metadata": {},
   "outputs": [],
   "source": [
    "test_As = [ zufaellige_untere_drem(n) for n in range(50) ]\n",
    "test_bs = [ np.random.rand(n,1)*10+2 for n in range(50) ]"
   ]
  },
  {
   "cell_type": "code",
   "execution_count": null,
   "metadata": {},
   "outputs": [],
   "source": [
    "times = [ timeit.timeit(lambda: vorwaertseinsetzen(test_As[n],test_bs[n]), number=N_tests)/N_tests for n in range(50)]\n",
    "\n",
    "import matplotlib.pyplot as plt\n",
    "fig, ax = plt.subplots()\n",
    "ax.plot([n for n in range(50)], times)"
   ]
  },
  {
   "cell_type": "code",
   "execution_count": null,
   "metadata": {},
   "outputs": [],
   "source": []
  }
 ],
 "metadata": {
  "kernelspec": {
   "display_name": "Python 3",
   "language": "python",
   "name": "python3"
  },
  "language_info": {
   "codemirror_mode": {
    "name": "ipython",
    "version": 3
   },
   "file_extension": ".py",
   "mimetype": "text/x-python",
   "name": "python",
   "nbconvert_exporter": "python",
   "pygments_lexer": "ipython3",
   "version": "3.8.6"
  }
 },
 "nbformat": 4,
 "nbformat_minor": 4
}
