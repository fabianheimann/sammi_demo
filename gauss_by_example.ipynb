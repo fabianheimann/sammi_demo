{
 "cells": [
  {
   "cell_type": "markdown",
   "metadata": {},
   "source": [
    "Wir beginnen damit, unsere Matrizen von Hand einzugeben und die ersten Rechnungen nachzuvollziehen"
   ]
  },
  {
   "cell_type": "code",
   "execution_count": 1,
   "metadata": {},
   "outputs": [
    {
     "data": {
      "text/plain": [
       "array([[ 5,  2,  0],\n",
       "       [ 1,  4,  5],\n",
       "       [-5,  4, -3]])"
      ]
     },
     "execution_count": 1,
     "metadata": {},
     "output_type": "execute_result"
    }
   ],
   "source": [
    "import numpy as np\n",
    "\n",
    "A1 = np.array([ [5,2,0], [1,4,5], [-5,4,-3] ])\n",
    "A1"
   ]
  },
  {
   "cell_type": "code",
   "execution_count": 2,
   "metadata": {},
   "outputs": [
    {
     "data": {
      "text/plain": [
       "array([[ 1. ,  0. ,  0. ],\n",
       "       [-0.2,  1. ,  0. ],\n",
       "       [ 1. ,  0. ,  1. ]])"
      ]
     },
     "execution_count": 2,
     "metadata": {},
     "output_type": "execute_result"
    }
   ],
   "source": [
    "M1 = np.array([ [1,0,0], [-1./5,1,0], [1,0,1] ])\n",
    "M1"
   ]
  },
  {
   "cell_type": "code",
   "execution_count": 3,
   "metadata": {},
   "outputs": [
    {
     "data": {
      "text/plain": [
       "array([[ 5. ,  2. ,  0. ],\n",
       "       [ 0. ,  3.6,  5. ],\n",
       "       [ 0. ,  6. , -3. ]])"
      ]
     },
     "execution_count": 3,
     "metadata": {},
     "output_type": "execute_result"
    }
   ],
   "source": [
    "A2 = M1.dot(A1)\n",
    "A2"
   ]
  },
  {
   "cell_type": "markdown",
   "metadata": {},
   "source": [
    "Einschub: Alternativ zu der Eingabe von Hand können wir auch M1 \"geschickt\" berechnen"
   ]
  },
  {
   "cell_type": "code",
   "execution_count": 4,
   "metadata": {},
   "outputs": [
    {
     "data": {
      "text/plain": [
       "array([[ 1. ,  0. ,  0. ],\n",
       "       [-0.2,  1. ,  0. ],\n",
       "       [ 1. ,  0. ,  1. ]])"
      ]
     },
     "execution_count": 4,
     "metadata": {},
     "output_type": "execute_result"
    }
   ],
   "source": [
    "l1 = np.array([[0, 1./5, -1]])\n",
    "e1_t = np.array([[1,0,0]])\n",
    "\n",
    "M1b = np.identity(3)-l1.T.dot(e1_t)\n",
    "M1b"
   ]
  },
  {
   "cell_type": "code",
   "execution_count": 5,
   "metadata": {},
   "outputs": [
    {
     "data": {
      "text/plain": [
       "0.0"
      ]
     },
     "execution_count": 5,
     "metadata": {},
     "output_type": "execute_result"
    }
   ],
   "source": [
    "np.linalg.norm(M1 - M1b)"
   ]
  },
  {
   "cell_type": "markdown",
   "metadata": {},
   "source": [
    "Nach demselben Schema berechnen wir nun M2"
   ]
  },
  {
   "cell_type": "code",
   "execution_count": 6,
   "metadata": {},
   "outputs": [
    {
     "data": {
      "text/plain": [
       "array([[ 1.        ,  0.        ,  0.        ],\n",
       "       [ 0.        ,  1.        ,  0.        ],\n",
       "       [ 0.        , -1.66666667,  1.        ]])"
      ]
     },
     "execution_count": 6,
     "metadata": {},
     "output_type": "execute_result"
    }
   ],
   "source": [
    "l2 = np.array([[0, 0, 6/3.6]])\n",
    "e2_t = np.array([[0,1,0]])\n",
    "\n",
    "M2 = np.identity(3)-l2.T.dot(e2_t)\n",
    "M2"
   ]
  },
  {
   "cell_type": "code",
   "execution_count": 7,
   "metadata": {},
   "outputs": [
    {
     "data": {
      "text/plain": [
       "array([[  5.        ,   2.        ,   0.        ],\n",
       "       [  0.        ,   3.6       ,   5.        ],\n",
       "       [  0.        ,   0.        , -11.33333333]])"
      ]
     },
     "execution_count": 7,
     "metadata": {},
     "output_type": "execute_result"
    }
   ],
   "source": [
    "A3 = M2.dot(A2)\n",
    "A3"
   ]
  },
  {
   "cell_type": "markdown",
   "metadata": {},
   "source": [
    "Damit haben wir U! L wird jetzt noch berechnet"
   ]
  },
  {
   "cell_type": "code",
   "execution_count": 8,
   "metadata": {},
   "outputs": [],
   "source": [
    "U = A3\n",
    "Ltilde = M2.dot(M1)"
   ]
  },
  {
   "cell_type": "code",
   "execution_count": 9,
   "metadata": {},
   "outputs": [
    {
     "data": {
      "text/plain": [
       "array([[ 1.        ,  0.        ,  0.        ],\n",
       "       [ 0.2       ,  1.        ,  0.        ],\n",
       "       [-1.        ,  1.66666667,  1.        ]])"
      ]
     },
     "execution_count": 9,
     "metadata": {},
     "output_type": "execute_result"
    }
   ],
   "source": [
    "L = np.linalg.inv(Ltilde)\n",
    "L"
   ]
  },
  {
   "cell_type": "markdown",
   "metadata": {},
   "source": [
    "...Und wir kontrollieren"
   ]
  },
  {
   "cell_type": "code",
   "execution_count": 10,
   "metadata": {},
   "outputs": [
    {
     "data": {
      "text/plain": [
       "array([[ 5.,  2.,  0.],\n",
       "       [ 1.,  4.,  5.],\n",
       "       [-5.,  4., -3.]])"
      ]
     },
     "execution_count": 10,
     "metadata": {},
     "output_type": "execute_result"
    }
   ],
   "source": [
    "L.dot(U)"
   ]
  },
  {
   "cell_type": "code",
   "execution_count": 11,
   "metadata": {},
   "outputs": [
    {
     "data": {
      "text/plain": [
       "array([[ 5,  2,  0],\n",
       "       [ 1,  4,  5],\n",
       "       [-5,  4, -3]])"
      ]
     },
     "execution_count": 11,
     "metadata": {},
     "output_type": "execute_result"
    }
   ],
   "source": [
    "A1"
   ]
  },
  {
   "cell_type": "markdown",
   "metadata": {},
   "source": [
    "# Anwendungen\n",
    "\n",
    "## Det berechnen"
   ]
  },
  {
   "cell_type": "code",
   "execution_count": 12,
   "metadata": {},
   "outputs": [
    {
     "data": {
      "text/plain": [
       "-203.99999999999994"
      ]
     },
     "execution_count": 12,
     "metadata": {},
     "output_type": "execute_result"
    }
   ],
   "source": [
    "np.linalg.det(A1)"
   ]
  },
  {
   "cell_type": "code",
   "execution_count": 13,
   "metadata": {},
   "outputs": [
    {
     "data": {
      "text/plain": [
       "-203.99999999999997"
      ]
     },
     "execution_count": 13,
     "metadata": {},
     "output_type": "execute_result"
    }
   ],
   "source": [
    "U[0,0]*U[1,1]*U[2,2]"
   ]
  },
  {
   "cell_type": "markdown",
   "metadata": {},
   "source": [
    "## Löse ein Gleichungssystem"
   ]
  },
  {
   "cell_type": "code",
   "execution_count": 14,
   "metadata": {},
   "outputs": [],
   "source": [
    "def vorwaertseinsetzen(A, b):\n",
    "    x = np.zeros(len(b))\n",
    "    for j in range(len(b)):\n",
    "        inner_sum = 0\n",
    "        for k in range(j):\n",
    "            inner_sum += A[j, k]*x[k]\n",
    "        x[j] = 1./A[j,j]*(b[j] - inner_sum)\n",
    "    return x"
   ]
  },
  {
   "cell_type": "code",
   "execution_count": 15,
   "metadata": {},
   "outputs": [],
   "source": [
    "from rueckweins import rueckwaertseinsetzen"
   ]
  },
  {
   "cell_type": "code",
   "execution_count": 16,
   "metadata": {},
   "outputs": [],
   "source": [
    "b = np.array([9,4,6])"
   ]
  },
  {
   "cell_type": "code",
   "execution_count": 17,
   "metadata": {},
   "outputs": [
    {
     "data": {
      "text/plain": [
       "array([ 1.,  2., -1.])"
      ]
     },
     "execution_count": 17,
     "metadata": {},
     "output_type": "execute_result"
    }
   ],
   "source": [
    "np.linalg.solve(A1,b)"
   ]
  },
  {
   "cell_type": "code",
   "execution_count": 18,
   "metadata": {},
   "outputs": [
    {
     "data": {
      "text/plain": [
       "array([ 1.,  2., -1.])"
      ]
     },
     "execution_count": 18,
     "metadata": {},
     "output_type": "execute_result"
    }
   ],
   "source": [
    "z = vorwaertseinsetzen(L,b)\n",
    "x = rueckwaertseinsetzen(U,z)\n",
    "x"
   ]
  },
  {
   "cell_type": "markdown",
   "metadata": {},
   "source": [
    "## Inverse bestimmen"
   ]
  },
  {
   "cell_type": "code",
   "execution_count": 19,
   "metadata": {},
   "outputs": [
    {
     "data": {
      "text/plain": [
       "array([[ 0.15686275, -0.02941176, -0.04901961],\n",
       "       [ 0.10784314,  0.07352941,  0.12254902],\n",
       "       [-0.11764706,  0.14705882, -0.08823529]])"
      ]
     },
     "execution_count": 19,
     "metadata": {},
     "output_type": "execute_result"
    }
   ],
   "source": [
    "goal = np.linalg.inv(A1)\n",
    "goal"
   ]
  },
  {
   "cell_type": "code",
   "execution_count": 20,
   "metadata": {},
   "outputs": [
    {
     "data": {
      "text/plain": [
       "array([ 0.15686275,  0.10784314, -0.11764706])"
      ]
     },
     "execution_count": 20,
     "metadata": {},
     "output_type": "execute_result"
    }
   ],
   "source": [
    "k = 0\n",
    "\n",
    "e_k = np.zeros(3)\n",
    "e_k[k] = 1\n",
    "\n",
    "e_k\n",
    "rueckwaertseinsetzen(U,vorwaertseinsetzen(L,e_k))"
   ]
  },
  {
   "cell_type": "code",
   "execution_count": 21,
   "metadata": {},
   "outputs": [
    {
     "data": {
      "text/plain": [
       "array([[0., 0., 0.],\n",
       "       [0., 0., 0.],\n",
       "       [0., 0., 0.]])"
      ]
     },
     "execution_count": 21,
     "metadata": {},
     "output_type": "execute_result"
    }
   ],
   "source": [
    "goal2 = np.zeros((3,3))\n",
    "goal2"
   ]
  },
  {
   "cell_type": "code",
   "execution_count": 22,
   "metadata": {},
   "outputs": [],
   "source": [
    "for k in range(3):\n",
    "    e_k = np.zeros(3)\n",
    "    e_k[k] = 1\n",
    "\n",
    "    z = rueckwaertseinsetzen(U,vorwaertseinsetzen(L,e_k))\n",
    "    for i in range(3):\n",
    "        goal2[i, k] = z[i]"
   ]
  },
  {
   "cell_type": "code",
   "execution_count": 23,
   "metadata": {},
   "outputs": [
    {
     "data": {
      "text/plain": [
       "array([[ 0.15686275, -0.02941176, -0.04901961],\n",
       "       [ 0.10784314,  0.07352941,  0.12254902],\n",
       "       [-0.11764706,  0.14705882, -0.08823529]])"
      ]
     },
     "execution_count": 23,
     "metadata": {},
     "output_type": "execute_result"
    }
   ],
   "source": [
    "goal2"
   ]
  },
  {
   "cell_type": "code",
   "execution_count": 24,
   "metadata": {},
   "outputs": [
    {
     "data": {
      "text/plain": [
       "4.443059973708341e-17"
      ]
     },
     "execution_count": 24,
     "metadata": {},
     "output_type": "execute_result"
    }
   ],
   "source": [
    "np.linalg.norm(goal-goal2)"
   ]
  },
  {
   "cell_type": "markdown",
   "metadata": {},
   "source": [
    "# Invertieren von Ltilde"
   ]
  },
  {
   "cell_type": "code",
   "execution_count": 26,
   "metadata": {},
   "outputs": [
    {
     "name": "stdout",
     "output_type": "stream",
     "text": [
      "M1:  [[ 1.   0.   0. ]\n",
      " [-0.2  1.   0. ]\n",
      " [ 1.   0.   1. ]]\n",
      "M2:  [[ 1.          0.          0.        ]\n",
      " [ 0.          1.          0.        ]\n",
      " [ 0.         -1.66666667  1.        ]]\n",
      "Ltilde:  [[ 1.          0.          0.        ]\n",
      " [-0.2         1.          0.        ]\n",
      " [ 1.33333333 -1.66666667  1.        ]]\n",
      "L:  [[ 1.          0.          0.        ]\n",
      " [ 0.2         1.          0.        ]\n",
      " [-1.          1.66666667  1.        ]]\n"
     ]
    }
   ],
   "source": [
    "# Bisher hatten wir gerechnet...\n",
    "M1 = np.identity(3)-l1.T.dot(e1_t)\n",
    "print(\"M1: \", M1)\n",
    "M2 = np.identity(3)-l2.T.dot(e2_t)\n",
    "print(\"M2: \", M2)\n",
    "\n",
    "Ltilde = M2.dot(M1)\n",
    "print(\"Ltilde: \", Ltilde)\n",
    "L = np.linalg.inv(Ltilde)\n",
    "print(\"L: \", L)"
   ]
  },
  {
   "cell_type": "code",
   "execution_count": 28,
   "metadata": {},
   "outputs": [
    {
     "name": "stdout",
     "output_type": "stream",
     "text": [
      "[[1. 0. 0.]\n",
      " [0. 1. 0.]\n",
      " [0. 0. 1.]]\n"
     ]
    }
   ],
   "source": [
    "M1inv = np.identity(3)+l1.T.dot(e1_t)\n",
    "\n",
    "print(M1inv.dot(M1))"
   ]
  },
  {
   "cell_type": "code",
   "execution_count": 31,
   "metadata": {},
   "outputs": [
    {
     "name": "stdout",
     "output_type": "stream",
     "text": [
      "[[1. 0. 0.]\n",
      " [0. 1. 0.]\n",
      " [0. 0. 1.]]\n"
     ]
    }
   ],
   "source": [
    "M2inv = np.identity(3)+l2.T.dot(e2_t)\n",
    "\n",
    "print(M2inv.dot(M2))"
   ]
  },
  {
   "cell_type": "code",
   "execution_count": 33,
   "metadata": {},
   "outputs": [
    {
     "data": {
      "text/plain": [
       "array([[ 1.        ,  0.        ,  0.        ],\n",
       "       [ 0.2       ,  1.        ,  0.        ],\n",
       "       [-1.        ,  1.66666667,  1.        ]])"
      ]
     },
     "execution_count": 33,
     "metadata": {},
     "output_type": "execute_result"
    }
   ],
   "source": [
    "Lb = M1inv.dot(M2inv)\n",
    "Lb"
   ]
  },
  {
   "cell_type": "code",
   "execution_count": 34,
   "metadata": {},
   "outputs": [
    {
     "data": {
      "text/plain": [
       "0.0"
      ]
     },
     "execution_count": 34,
     "metadata": {},
     "output_type": "execute_result"
    }
   ],
   "source": [
    "np.linalg.norm(Lb - L)"
   ]
  },
  {
   "cell_type": "code",
   "execution_count": null,
   "metadata": {},
   "outputs": [],
   "source": []
  }
 ],
 "metadata": {
  "kernelspec": {
   "display_name": "Python 3",
   "language": "python",
   "name": "python3"
  },
  "language_info": {
   "codemirror_mode": {
    "name": "ipython",
    "version": 3
   },
   "file_extension": ".py",
   "mimetype": "text/x-python",
   "name": "python",
   "nbconvert_exporter": "python",
   "pygments_lexer": "ipython3",
   "version": "3.8.6"
  }
 },
 "nbformat": 4,
 "nbformat_minor": 4
}
