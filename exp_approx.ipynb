{
 "cells": [
  {
   "cell_type": "code",
   "execution_count": 1,
   "metadata": {},
   "outputs": [],
   "source": [
    "from math import factorial, exp\n",
    "\n",
    "def aexp(x, n):\n",
    "    y = 0\n",
    "    for j in range(n+1):\n",
    "        y = y + x**j/factorial(j)\n",
    "    return y"
   ]
  },
  {
   "cell_type": "code",
   "execution_count": 2,
   "metadata": {},
   "outputs": [
    {
     "data": {
      "text/plain": [
       "1.6487212707001278"
      ]
     },
     "execution_count": 2,
     "metadata": {},
     "output_type": "execute_result"
    }
   ],
   "source": [
    "aexp(0.5,100)"
   ]
  },
  {
   "cell_type": "code",
   "execution_count": 3,
   "metadata": {},
   "outputs": [
    {
     "data": {
      "text/plain": [
       "1.6487212707001282"
      ]
     },
     "execution_count": 3,
     "metadata": {},
     "output_type": "execute_result"
    }
   ],
   "source": [
    "exp(0.5)"
   ]
  },
  {
   "cell_type": "markdown",
   "metadata": {},
   "source": [
    "Zuerst berechnen wir den absoluten Verfahrensfehler"
   ]
  },
  {
   "cell_type": "code",
   "execution_count": 7,
   "metadata": {},
   "outputs": [
    {
     "name": "stdout",
     "output_type": "stream",
     "text": [
      "n:  3  E_abs^v =  0.002887937366794935 Schranke:  0.007078858928278763\n",
      "n:  5  E_abs^v =  2.33540334615423e-05 Schranke:  5.8990491068989694e-05\n",
      "n:  7  E_abs^v =  1.0254536642051448e-07 Schranke:  2.633504065579897e-07\n",
      "n:  9  E_abs^v =  2.818771882573401e-10 Schranke:  7.31528907105527e-10\n",
      "n:  11  E_abs^v =  5.302425165609748e-13 Schranke:  1.385471414972589e-12\n",
      "n:  13  E_abs^v =  1.1102230246251565e-15 Schranke:  1.903120075511798e-15\n",
      "n:  15  E_abs^v =  4.440892098500626e-16 Schranke:  1.9824167453247895e-18\n",
      "n:  17  E_abs^v =  4.440892098500626e-16 Schranke:  1.6196215239581614e-21\n",
      "n:  19  E_abs^v =  4.440892098500626e-16 Schranke:  1.0655404762882641e-24\n"
     ]
    }
   ],
   "source": [
    "x = 0.5\n",
    "\n",
    "for n in range(3, 20, 2):\n",
    "    print(\"n: \", n, \" E_abs^v = \", abs( aexp(x, n) - exp(x)), \"Schranke: \", exp(1)*abs(x)**(n+1)/factorial(n+1))"
   ]
  },
  {
   "cell_type": "markdown",
   "metadata": {},
   "source": [
    "Jetzt wird x ersetzt durch ein ungenaues xtilde"
   ]
  },
  {
   "cell_type": "code",
   "execution_count": 8,
   "metadata": {},
   "outputs": [
    {
     "name": "stdout",
     "output_type": "stream",
     "text": [
      "x:  0.5 xtilde 0.525\n"
     ]
    }
   ],
   "source": [
    "eps = 0.05 # Störung: 5%\n",
    "\n",
    "xtilde = (1+eps)*x\n",
    "print(\"x: \", x, \"xtilde\", xtilde)"
   ]
  },
  {
   "cell_type": "markdown",
   "metadata": {},
   "source": [
    "Relativ zu dieser Störung berechnen wir nun den durch fehlerhafte Eingangsdaten übertragenen absoluten Fehler"
   ]
  },
  {
   "cell_type": "code",
   "execution_count": 9,
   "metadata": {},
   "outputs": [
    {
     "name": "stdout",
     "output_type": "stream",
     "text": [
      "E_abs^e 0.041737577678963245\n"
     ]
    }
   ],
   "source": [
    "print(\"E_abs^e\", abs( exp(x) - exp(xtilde)))"
   ]
  },
  {
   "cell_type": "code",
   "execution_count": 12,
   "metadata": {},
   "outputs": [
    {
     "name": "stdout",
     "output_type": "stream",
     "text": [
      "n:  1\n",
      "E_abs^g =  0.12372127070012828\n",
      "n:  2\n",
      "E_abs^g =  0.01409122929987161\n",
      "n:  3\n",
      "E_abs^g =  0.038208416799871525\n",
      "n:  4\n",
      "E_abs^g =  0.041373797659246536\n",
      "n:  5\n",
      "E_abs^g =  0.041706162649481016\n",
      "n:  6\n",
      "E_abs^g =  0.04173524458612654\n",
      "n:  7\n",
      "E_abs^g =  0.041737425731374955\n",
      "n:  8\n",
      "E_abs^g =  0.041737568869031794\n",
      "n:  9\n",
      "E_abs^g =  0.041737577218728505\n"
     ]
    }
   ],
   "source": [
    "#Als nächstes wird der absolute Gesamtfehler bestimmt\n",
    "\n",
    "for n in range(1, 10, 1):\n",
    "    print(\"n: \", n)\n",
    "    print(\"E_abs^g = \", abs(aexp(xtilde, n) - exp(x)))\n",
    "    #print(\"E_abs^v + E_abs^e = \", abs( aexp(x, n) - exp(x)) +abs( exp(x) - exp(xtilde)))\n",
    "    #print(\"E_abs^v + E_abs^e - E_abs^g = \",abs( aexp(x, n) - exp(x)) +abs( exp(x) - exp(xtilde)) - abs(aexp(xtilde, n) - exp(x)),\"\\n\\n\")"
   ]
  },
  {
   "cell_type": "code",
   "execution_count": null,
   "metadata": {},
   "outputs": [],
   "source": []
  }
 ],
 "metadata": {
  "kernelspec": {
   "display_name": "Python 3",
   "language": "python",
   "name": "python3"
  },
  "language_info": {
   "codemirror_mode": {
    "name": "ipython",
    "version": 3
   },
   "file_extension": ".py",
   "mimetype": "text/x-python",
   "name": "python",
   "nbconvert_exporter": "python",
   "pygments_lexer": "ipython3",
   "version": "3.8.6"
  }
 },
 "nbformat": 4,
 "nbformat_minor": 4
}
